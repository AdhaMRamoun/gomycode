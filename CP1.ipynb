{
  "cells": [
    {
      "cell_type": "code",
      "source": [
        "f_name = \"First\"\n",
        "l_name = \"Last\"\n",
        "def reverse(n1,n2):\n",
        "  new_name = n2+\" \"+n1\n",
        "  return new_name\n",
        "reverse(f_name,l_name)"
      ],
      "metadata": {
        "colab": {
          "base_uri": "https://localhost:8080/",
          "height": 35
        },
        "id": "f3_Nqm9Ikdj9",
        "outputId": "b5a94390-d5c2-4672-d28c-d8964132bf55"
      },
      "execution_count": 6,
      "outputs": [
        {
          "output_type": "execute_result",
          "data": {
            "application/vnd.google.colaboratory.intrinsic+json": {
              "type": "string"
            },
            "text/plain": [
              "'Last First'"
            ]
          },
          "metadata": {},
          "execution_count": 6
        }
      ]
    },
    {
      "cell_type": "code",
      "source": [
        "number = 5\n",
        "def computation(n):\n",
        "  n1 = n\n",
        "  n2 = str(n)+str(n)\n",
        "  n2 = int(n2)\n",
        "  n3 = str(n)+str(n)+str(n)\n",
        "  n3 = int(n3)\n",
        "  value = n1+n2+n3\n",
        "  return value\n",
        "\n",
        "computation(number)"
      ],
      "metadata": {
        "id": "bD-1wIB92Gdb",
        "outputId": "1cd18608-58f8-4850-ad72-b2cdd248aba4",
        "colab": {
          "base_uri": "https://localhost:8080/"
        }
      },
      "execution_count": 7,
      "outputs": [
        {
          "output_type": "execute_result",
          "data": {
            "text/plain": [
              "615"
            ]
          },
          "metadata": {},
          "execution_count": 7
        }
      ]
    },
    {
      "cell_type": "code",
      "source": [
        "number = input(\"Enter the number\")\n",
        "number = int(number)\n",
        "def evenorodd(n):\n",
        "  x = n%2\n",
        "  if x == 0:\n",
        "    print(\"the number is even\")\n",
        "  else:\n",
        "    print(\"the number is odd\")\n",
        "evenorodd(number)"
      ],
      "metadata": {
        "id": "EN5Cjy8t3FbC",
        "outputId": "508ba47f-49be-4940-8a72-5d62dfee41c8",
        "colab": {
          "base_uri": "https://localhost:8080/"
        }
      },
      "execution_count": 11,
      "outputs": [
        {
          "output_type": "stream",
          "name": "stdout",
          "text": [
            "Enter the number5\n",
            "the number is odd\n"
          ]
        }
      ]
    },
    {
      "cell_type": "code",
      "source": [
        "lst = []\n",
        "for i in range(2000,3200):\n",
        "  if i%5 != 0:\n",
        "    if i%7 == 0:\n",
        "      lst.append(i)  \n",
        "print(lst)\n",
        "  "
      ],
      "metadata": {
        "id": "k-Henq7A4IME",
        "outputId": "d3112ce6-2d61-4a38-82f2-328be69fb242",
        "colab": {
          "base_uri": "https://localhost:8080/"
        }
      },
      "execution_count": 16,
      "outputs": [
        {
          "output_type": "stream",
          "name": "stdout",
          "text": [
            "[2002, 2009, 2016, 2023, 2037, 2044, 2051, 2058, 2072, 2079, 2086, 2093, 2107, 2114, 2121, 2128, 2142, 2149, 2156, 2163, 2177, 2184, 2191, 2198, 2212, 2219, 2226, 2233, 2247, 2254, 2261, 2268, 2282, 2289, 2296, 2303, 2317, 2324, 2331, 2338, 2352, 2359, 2366, 2373, 2387, 2394, 2401, 2408, 2422, 2429, 2436, 2443, 2457, 2464, 2471, 2478, 2492, 2499, 2506, 2513, 2527, 2534, 2541, 2548, 2562, 2569, 2576, 2583, 2597, 2604, 2611, 2618, 2632, 2639, 2646, 2653, 2667, 2674, 2681, 2688, 2702, 2709, 2716, 2723, 2737, 2744, 2751, 2758, 2772, 2779, 2786, 2793, 2807, 2814, 2821, 2828, 2842, 2849, 2856, 2863, 2877, 2884, 2891, 2898, 2912, 2919, 2926, 2933, 2947, 2954, 2961, 2968, 2982, 2989, 2996, 3003, 3017, 3024, 3031, 3038, 3052, 3059, 3066, 3073, 3087, 3094, 3101, 3108, 3122, 3129, 3136, 3143, 3157, 3164, 3171, 3178, 3192, 3199]\n"
          ]
        }
      ]
    },
    {
      "cell_type": "code",
      "source": [
        "n = input('')\n",
        "n = int(n)\n",
        "fact = 1\n",
        "  \n",
        "for i in range(1,n+1):\n",
        "    fact = fact * i\n",
        "      \n",
        "print (\"The factorial of \",n,\" is : \",end=\"\")\n",
        "print (fact)"
      ],
      "metadata": {
        "id": "Fl8Mo9RO6_UQ",
        "outputId": "82ec1e06-6222-4a19-8bcb-85936a4e9c5a",
        "colab": {
          "base_uri": "https://localhost:8080/"
        }
      },
      "execution_count": 38,
      "outputs": [
        {
          "output_type": "stream",
          "name": "stdout",
          "text": [
            "5\n",
            "The factorial of  5  is : 120\n"
          ]
        }
      ]
    },
    {
      "cell_type": "code",
      "source": [
        "word = input(\"Enter the word\")\n",
        "word2 = ''\n",
        "for i in range(len(word)):\n",
        "  if i%2 == 0:\n",
        "    word2+=word[i]\n",
        "\n",
        "print(word2)"
      ],
      "metadata": {
        "id": "3P_NYIPV8OqN",
        "outputId": "41c1ec43-03b4-4582-c4f0-3bf5468b92a8",
        "colab": {
          "base_uri": "https://localhost:8080/"
        }
      },
      "execution_count": 32,
      "outputs": [
        {
          "output_type": "stream",
          "name": "stdout",
          "text": [
            "hello\n",
            "hlo\n"
          ]
        }
      ]
    },
    {
      "cell_type": "code",
      "source": [
        "x = input(\"Enter the price: \")\n",
        "x = int(x)\n",
        "if x >= 500:\n",
        "  new_price = x/2\n",
        "  print('The new price is ',new_price,\"With 50% Discount\")\n",
        "elif x >= 200:\n",
        "  new_price = x*0.7\n",
        "  print('The new price is ',new_price,\"With 30% Discount\")\n",
        "elif x < 200:\n",
        "  new_price = x*0.9\n",
        "  print('The new price is ',new_price,\"With 10% Discount\")\n",
        "\n"
      ],
      "metadata": {
        "id": "G0RPacgp8g-T",
        "outputId": "dae4c428-421a-4324-caab-fa0e58b59e90",
        "colab": {
          "base_uri": "https://localhost:8080/"
        }
      },
      "execution_count": 42,
      "outputs": [
        {
          "output_type": "stream",
          "name": "stdout",
          "text": [
            "Enter the price: 600\n",
            "The new price is  300.0 With 50% Discount\n"
          ]
        }
      ]
    }
  ],
  "metadata": {
    "colab": {
      "collapsed_sections": [],
      "name": "Welcome To Colaboratory",
      "provenance": []
    },
    "kernelspec": {
      "display_name": "Python 3",
      "name": "python3"
    }
  },
  "nbformat": 4,
  "nbformat_minor": 0
}