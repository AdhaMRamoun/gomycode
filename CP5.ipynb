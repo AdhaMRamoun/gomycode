{
  "nbformat": 4,
  "nbformat_minor": 0,
  "metadata": {
    "colab": {
      "name": "Copy of Untitled0.ipynb",
      "provenance": [],
      "collapsed_sections": []
    },
    "kernelspec": {
      "name": "python3",
      "display_name": "Python 3"
    },
    "language_info": {
      "name": "python"
    }
  },
  "cells": [
    {
      "cell_type": "code",
      "source": [
        "\"\"\"Question 1\n",
        "\n",
        "Write a Python program to convert an array to an ordinary list with the same items.\n",
        "\n",
        "we can use the np.tolist() function\"\"\"\n",
        "import numpy as np\n",
        "        \n",
        "ar1 = np.array([1, 2, 3, 4, 5])\n",
        "        \n",
        "ar1 =ar1.tolist()\n",
        "\n",
        "print(ar1)"
      ],
      "metadata": {
        "colab": {
          "base_uri": "https://localhost:8080/"
        },
        "id": "Dvm-YSVhevzW",
        "outputId": "d13cf091-4163-4d98-864a-096c2ca50ae7"
      },
      "execution_count": null,
      "outputs": [
        {
          "output_type": "stream",
          "name": "stdout",
          "text": [
            "[1, 2, 3, 4, 5]\n"
          ]
        }
      ]
    },
    {
      "cell_type": "code",
      "source": [
        "''' Question 2 \n",
        "Write a NumPy program to compute the sum of the diagonal elements of a given array.\n",
        "Hint: Two methods to solve this problem: 1. manually(without direct function). 2. using the trace function'''\n",
        "import numpy as np\n",
        "\n",
        "ar1 = np.array([[2, 1, 9],\n",
        "                [3, 5, 1]])\n",
        "\n",
        "np.trace(ar1)"
      ],
      "metadata": {
        "colab": {
          "base_uri": "https://localhost:8080/"
        },
        "id": "cXH0lgVofiUq",
        "outputId": "7f6499bc-2eef-4a5b-b1a7-e1955a45030f"
      },
      "execution_count": null,
      "outputs": [
        {
          "output_type": "execute_result",
          "data": {
            "text/plain": [
              "7"
            ]
          },
          "metadata": {},
          "execution_count": 19
        }
      ]
    },
    {
      "cell_type": "code",
      "source": [
        "'''Question 3\n",
        "\n",
        "Given an array of your choice, get all the values higher than X :\n",
        "\n",
        "if a = [[1,2],[3,5]] and x = 2 :  then 3 and 5 are higher than 2. \n",
        "'''\n",
        "import numpy as np\n",
        "\n",
        "ar1 = np.array([[2, 1, 9],\n",
        "                [3, 5, 1]])\n",
        "li2 = []\n",
        "x = 4\n",
        "for f in range(0,2):\n",
        "  for i in range(0,3):\n",
        "    m = ar1[f,i]\n",
        "    if m > x:\n",
        "      li2.append(m)\n",
        "\n",
        "print(li2)"
      ],
      "metadata": {
        "colab": {
          "base_uri": "https://localhost:8080/"
        },
        "id": "_fU25iTxfiiF",
        "outputId": "a96720af-029c-44b0-8f56-9f53c50f81d4"
      },
      "execution_count": null,
      "outputs": [
        {
          "output_type": "stream",
          "name": "stdout",
          "text": [
            "[9, 5]\n"
          ]
        }
      ]
    },
    {
      "cell_type": "code",
      "source": [
        "\"\"\"Question 4\n",
        "\n",
        "Given two arrays, A & B have the same shape. \n",
        "\n",
        "The task is to apply addition by hand: C is the new array. \"\"\"\n",
        "\n",
        "import numpy as np\n",
        "\n",
        "a=np.array([[1,2],\n",
        "           [3,4]])\n",
        "\n",
        "b=np.array([[5,6],\n",
        "           [7,8]])\n",
        "\n",
        "c = a+b\n",
        "print(c)"
      ],
      "metadata": {
        "colab": {
          "base_uri": "https://localhost:8080/"
        },
        "id": "HsmTrrKJfjC0",
        "outputId": "5d546185-782c-4a52-b16e-271d8de2ba0c"
      },
      "execution_count": null,
      "outputs": [
        {
          "output_type": "stream",
          "name": "stdout",
          "text": [
            "[[ 6  8]\n",
            " [10 12]]\n"
          ]
        }
      ]
    },
    {
      "cell_type": "code",
      "source": [
        "\"\"\"\"Question 5\n",
        "\n",
        "Write a NumPy program to subtract the mean of each row of a given matrix.\n",
        "\n",
        "Hint: use the mean function\"\"\"\n",
        "\n",
        "import numpy as np\n",
        "print(\"Original matrix:\\n\")\n",
        "X = np.random.rand(3, 3)\n",
        "print(X)\n",
        "print(\"\\nSubtract the mean of each row of the said matrix:\\n\")\n",
        "Y = X - X.mean(axis=1, keepdims=True)\n",
        "print(Y)"
      ],
      "metadata": {
        "id": "o7v0Q-SR4JMQ",
        "outputId": "bcc9a684-87ec-4bc9-ffad-d82887d68aec",
        "colab": {
          "base_uri": "https://localhost:8080/"
        }
      },
      "execution_count": 1,
      "outputs": [
        {
          "output_type": "stream",
          "name": "stdout",
          "text": [
            "Original matrix:\n",
            "\n",
            "[[0.98805886 0.20495834 0.98765141]\n",
            " [0.23890421 0.8708243  0.63415242]\n",
            " [0.9106075  0.51812644 0.25604973]]\n",
            "\n",
            "Subtract the mean of each row of the said matrix:\n",
            "\n",
            "[[ 0.26116932 -0.5219312   0.26076188]\n",
            " [-0.34238943  0.28953065  0.05285878]\n",
            " [ 0.34901294 -0.04346811 -0.30554482]]\n"
          ]
        }
      ]
    }
  ]
}