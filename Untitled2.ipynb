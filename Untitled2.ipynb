{
  "nbformat": 4,
  "nbformat_minor": 0,
  "metadata": {
    "colab": {
      "name": "Untitled2.ipynb",
      "provenance": [],
      "collapsed_sections": []
    },
    "kernelspec": {
      "name": "python3",
      "display_name": "Python 3"
    },
    "language_info": {
      "name": "python"
    }
  },
  "cells": [
    {
      "cell_type": "code",
      "execution_count": 27,
      "metadata": {
        "colab": {
          "base_uri": "https://localhost:8080/"
        },
        "id": "jdOZYjcpHRe2",
        "outputId": "5decdac2-8fc9-43af-abc6-16c9a9b4d064"
      },
      "outputs": [
        {
          "output_type": "stream",
          "name": "stdout",
          "text": [
            "(1, 2, 3)\n"
          ]
        }
      ],
      "source": [
        "\"\"\"\n",
        "Write a python class named Point3D defined by x, y, and z.\n",
        "Define a method that returns (x, y ,z).\n",
        "This tells Python to represent this object in the following format: (x, y, z).\n",
        "Then create a variable named my_point containing a new instance of Point3D \n",
        "with x=1, y=2, and z=3 and print it.\"\"\"\n",
        "class Point3D:\n",
        "  def __init__(self,x,y,z):\n",
        "    self.x = x\n",
        "    self.y = y\n",
        "    self.z = z\n",
        "  \n",
        "  def create(self):\n",
        "    return(self.x,self.y,self.z)\n",
        "\n",
        "var = Point3D(1,2,3)\n",
        "print(var.create())"
      ]
    },
    {
      "cell_type": "code",
      "source": [
        "\"\"\" Write a Python class named Rectangle constructed by a length and width. \n",
        "Define two methods area and perimeter which will compute the area \n",
        "and the perimeter of the rectangle. \n",
        "Then create a variable named my_rectangle containing a new instance \n",
        "of Rectangle with width=3 and length = 4 and compute both of area and \n",
        "perimeter ( the area is expected to be 3*4=12 and perimeter 2*(3+4)=14)\"\"\"\n",
        "\n",
        "class Rectangle:\n",
        "  def __init__(self,lent,wid):\n",
        "    self.lent = lent\n",
        "    self.wid = wid\n",
        "\n",
        "  def area(self):\n",
        "    return (self.lent*self.wid)\n",
        "\n",
        "  def prem(self):\n",
        "    return(self.lent*2)+(self.wid*2)\n",
        "\n",
        "\n",
        "var = Rectangle(4,3)\n",
        "print(var.area())\n",
        "print(var.prem())\n",
        "\n",
        "  "
      ],
      "metadata": {
        "colab": {
          "base_uri": "https://localhost:8080/"
        },
        "id": "zLtxHNW7w6Gb",
        "outputId": "2563d05f-a081-4738-d8e0-8e50839785b0"
      },
      "execution_count": 37,
      "outputs": [
        {
          "output_type": "stream",
          "name": "stdout",
          "text": [
            "12\n",
            "14\n"
          ]
        }
      ]
    },
    {
      "cell_type": "code",
      "source": [
        "\"\"\"Write a Python  class named Circle constructed by its center O and radius r. \n",
        "Define two methods area and perimeter which will compute the area \n",
        "and the perimeter of the circle, and isInside() method of the class \n",
        "which allows to test whether a point A(x, y) belongs to \n",
        "the circle C(O, r) or not.\"\"\"\n",
        "class Circle:\n",
        "  def __init__(self,O1,O2,r):\n",
        "    self.O1 = O1\n",
        "    self.O2= O2\n",
        "    self.r = r\n",
        "\n",
        "  def area(self):\n",
        "    return(self.r*self.r*3.14)\n",
        "\n",
        "  def prem(self):\n",
        "    return(self.r*2*3.14)\n",
        "\n",
        "  def isInside(self,x,y):\n",
        "    if (x-self.O1^2)+(y-self.O2^2)<(self.r^2):\n",
        "      return(\"The Point belongs to the circle\")\n",
        "    else:\n",
        "      return(\"THe Point doesnot belon to the circle\")\n",
        "\n",
        "var = Circle(0,0,5)\n",
        "print(var.area())\n",
        "print(var.prem())\n",
        "print(var.isInside(1,1))"
      ],
      "metadata": {
        "colab": {
          "base_uri": "https://localhost:8080/"
        },
        "id": "3fcOqGN1y8ZB",
        "outputId": "6afe5d78-75e2-43ff-b4a0-a6c75f541aa4"
      },
      "execution_count": 55,
      "outputs": [
        {
          "output_type": "stream",
          "name": "stdout",
          "text": [
            "78.5\n",
            "31.400000000000002\n",
            "The Point belongs to the circle\n"
          ]
        }
      ]
    },
    {
      "cell_type": "code",
      "source": [
        "\"\"\"Suppose we want to model a bank account with support for deposit and \n",
        "withdraw operations. Let’s create a python class named bank defined \n",
        "by its balance. Define two methods deposit and withdraw to compute the \n",
        "new amount of each operation.\"\"\"\n",
        "class bank:\n",
        "  def __init__(self,bal):\n",
        "    self.bal = bal\n",
        "\n",
        "  def deposit(self,add):\n",
        "    self.bal += add\n",
        "    return self.bal\n",
        "\n",
        "  def withdraw(self,rem):\n",
        "    self.bal -= rem\n",
        "    return self.bal\n",
        "var = bank(500)\n",
        "print('Enter the number you want to add')\n",
        "x = int(input())\n",
        "print(\"Your balanace is now\")\n",
        "print(var.deposit(x))\n",
        "print('Enter the number you want to withdraw')\n",
        "y = int(input())\n",
        "print(\"your balance is now\")\n",
        "print(var.withdraw(y))"
      ],
      "metadata": {
        "colab": {
          "base_uri": "https://localhost:8080/"
        },
        "id": "AMygJwBLzwQL",
        "outputId": "d8f41967-836b-46ea-c1ce-caec01aeee07"
      },
      "execution_count": 47,
      "outputs": [
        {
          "output_type": "stream",
          "name": "stdout",
          "text": [
            "Enter the number you want to add\n",
            "30\n",
            "Your balanace is now\n",
            "530\n",
            "Enter the number you want to withdraw\n",
            "20\n",
            "your balance is now\n",
            "510\n"
          ]
        }
      ]
    }
  ]
}