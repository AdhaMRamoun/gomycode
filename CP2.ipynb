{
  "nbformat": 4,
  "nbformat_minor": 0,
  "metadata": {
    "colab": {
      "name": "Untitled0.ipynb",
      "provenance": [],
      "collapsed_sections": []
    },
    "kernelspec": {
      "name": "python3",
      "display_name": "Python 3"
    },
    "language_info": {
      "name": "python"
    }
  },
  "cells": [
    {
      "cell_type": "code",
      "execution_count": null,
      "metadata": {
        "colab": {
          "base_uri": "https://localhost:8080/"
        },
        "id": "xd7noL5xd8yu",
        "outputId": "37de4b6d-4192-4dbd-fc61-6e05a169f61a"
      },
      "outputs": [
        {
          "output_type": "stream",
          "name": "stdout",
          "text": [
            "36\n"
          ]
        }
      ],
      "source": [
        "example_list = [2,3,6]\n",
        "total = 1\n",
        "for i in range(0,3):\n",
        "  num = example_list[i]\n",
        "  total = total * num\n",
        "print(total)"
      ]
    },
    {
      "cell_type": "code",
      "source": [
        "Sample_list = [(2, 5), (1, 2), (4, 4), (2, 3), (2, 1)]\n",
        "Sample_list.sort(key=lambda tup: tup[1]) #tup[1] is the number of the element in the tuple you want to sort with\n",
        "print(Sample_list)"
      ],
      "metadata": {
        "colab": {
          "base_uri": "https://localhost:8080/"
        },
        "id": "Dvm-YSVhevzW",
        "outputId": "927e5e9a-5e1e-4261-b9c7-6f9b294dcbfe"
      },
      "execution_count": null,
      "outputs": [
        {
          "output_type": "stream",
          "name": "stdout",
          "text": [
            "[(2, 1), (1, 2), (2, 3), (4, 4), (2, 5)]\n"
          ]
        }
      ]
    },
    {
      "cell_type": "code",
      "source": [
        "from collections import Counter\n",
        "d1 = {'a': 100, 'b': 200, 'c':300}\n",
        "d2 = {'a': 300, 'b': 200, 'd':400}   \n",
        "d3 = Counter(d1) + Counter(d2)\n",
        "print(d3)"
      ],
      "metadata": {
        "colab": {
          "base_uri": "https://localhost:8080/"
        },
        "id": "cXH0lgVofiUq",
        "outputId": "49436dc4-77ea-44b2-f6fd-a2c797742004"
      },
      "execution_count": null,
      "outputs": [
        {
          "output_type": "stream",
          "name": "stdout",
          "text": [
            "Counter({'a': 400, 'b': 400, 'd': 400, 'c': 300})\n"
          ]
        }
      ]
    },
    {
      "cell_type": "code",
      "source": [
        "num = 8\n",
        "dic = {}\n",
        "for i in range(num):\n",
        "  index = i+1\n",
        "  string_index = str(index)\n",
        "  dic[string_index] = index*index\n",
        "print(dic)"
      ],
      "metadata": {
        "colab": {
          "base_uri": "https://localhost:8080/"
        },
        "id": "_fU25iTxfiiF",
        "outputId": "cd2a0d53-bf30-40e2-c853-c0cae65fdfe0"
      },
      "execution_count": null,
      "outputs": [
        {
          "output_type": "stream",
          "name": "stdout",
          "text": [
            "{'1': 1, '2': 4, '3': 9, '4': 16, '5': 25, '6': 36, '7': 49, '8': 64}\n"
          ]
        }
      ]
    },
    {
      "cell_type": "code",
      "source": [
        "list= [('item1', '12.20'), ('item2', '15.10'), ('item3', '24.5')]\n",
        "print(sorted(list, key=lambda x: float(x[1]), reverse=True))\n"
      ],
      "metadata": {
        "colab": {
          "base_uri": "https://localhost:8080/"
        },
        "id": "HsmTrrKJfjC0",
        "outputId": "5d81509b-9982-4b4a-c057-5d29e5e0539a"
      },
      "execution_count": null,
      "outputs": [
        {
          "output_type": "stream",
          "name": "stdout",
          "text": [
            "[('item3', '24.5'), ('item2', '15.10'), ('item1', '12.20')]\n"
          ]
        }
      ]
    }
  ]
}