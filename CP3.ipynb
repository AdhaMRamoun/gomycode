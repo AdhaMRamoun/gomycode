{
  "nbformat": 4,
  "nbformat_minor": 0,
  "metadata": {
    "colab": {
      "name": "Untitled0.ipynb",
      "provenance": [],
      "collapsed_sections": []
    },
    "kernelspec": {
      "name": "python3",
      "display_name": "Python 3"
    },
    "language_info": {
      "name": "python"
    }
  },
  "cells": [
    {
      "cell_type": "code",
      "execution_count": 38,
      "metadata": {
        "colab": {
          "base_uri": "https://localhost:8080/"
        },
        "id": "xd7noL5xd8yu",
        "outputId": "3130fe4d-2e64-4ef5-ad1f-07a5bb0b9924"
      },
      "outputs": [
        {
          "output_type": "stream",
          "name": "stdout",
          "text": [
            "35\n"
          ]
        }
      ],
      "source": [
        "'''Question 1\n",
        "\n",
        "Write a Python function to find the Max of three numbers.\n",
        "\n",
        "for example, the max of these three numbers 20, 35, 19 is 35'''\n",
        "lst = [20,35,16]\n",
        "max = 0\n",
        "if lst[0] > lst[1]:\n",
        "  max = lst[0]\n",
        "elif lst[1] > lst[0]:\n",
        "  max = lst[1]\n",
        "elif lst[1] > lst[2]:\n",
        "  max = lst[1]\n",
        "elif lst[2] > lst[1]:\n",
        "  max = lst[2]\n",
        "elif lst[2] > lst[0]:\n",
        "  max = lst[2]\n",
        "elif lst[0] > lst[2]:\n",
        "  max = lst[0]\n",
        "\n",
        "print(max)\n"
      ]
    },
    {
      "cell_type": "code",
      "source": [
        "'''Question 2\n",
        "\n",
        "Write a function calculation() such that it can accept two variables and calculate the addition and subtraction of it. And also it must return both addition and subtraction in a single return call\n",
        "\n",
        "For example:\n",
        "\n",
        "calculation(40, 10) should produce 50, 30'''\n",
        "def calculation(n1,n2):\n",
        "  subtraction = n1 - n2\n",
        "  print(\"The subtraction of the two numbers is equal to: \", subtraction)\n",
        "  addition = n1+n2\n",
        "  print(\"The addition of the two numbers is equal to: \", addition)\n",
        "  return addition,subtraction\n",
        "\n",
        "calculation(10,3)"
      ],
      "metadata": {
        "colab": {
          "base_uri": "https://localhost:8080/"
        },
        "id": "Dvm-YSVhevzW",
        "outputId": "4622e472-402c-4dab-8deb-674d0f7977cb"
      },
      "execution_count": 42,
      "outputs": [
        {
          "output_type": "stream",
          "name": "stdout",
          "text": [
            "The subtraction of the two numbers is equal to:  7\n",
            "The addition of the two numbers is equal to:  13\n"
          ]
        },
        {
          "output_type": "execute_result",
          "data": {
            "text/plain": [
              "(13, 7)"
            ]
          },
          "metadata": {},
          "execution_count": 42
        }
      ]
    },
    {
      "cell_type": "code",
      "source": [
        "''' Question 3\n",
        "* Write a function that sums the elements of a list of integers.\n",
        "* Write a function that multiplies the elements of an integer list.\n",
        "* Use the two functions to sum the elements whose position is an even number (0,2,4…) and multiply the rest.\n",
        "Hint: Consider extracting two lists from a first list '''\n",
        "llst = [1,2,3,4,5,6,7,8,9]\n",
        "Even = []\n",
        "Odd = []\n",
        "def tsum(lst):\n",
        "  func_lst = lst\n",
        "  total_1 = 0\n",
        "  for i in range(0,len(func_lst)):\n",
        "    total_1 += func_lst[i]\n",
        "  print(total_1)\n",
        "  return total_1\n",
        "\n",
        "def multiply(lst):\n",
        "  func_lst = lst\n",
        "  total_2 = 1\n",
        "  for i in range(0,len(func_lst)):\n",
        "    total_2 *= func_lst[i]\n",
        "  print(total_2)\n",
        "  return total_2\n",
        "\n",
        "def sumeven_multodd(lst):\n",
        "  my_lst = lst\n",
        "  Even = []\n",
        "  Odd = [] \n",
        "  Number = len(my_lst)\n",
        "  for j in range(Number):\n",
        "    if(my_lst[j] % 2 == 0):\n",
        "      Even.append(my_lst[j])\n",
        "    else:\n",
        "      Odd.append(my_lst[j])\n",
        "  tsum(Even)\n",
        "  multiply(Odd)\n",
        "\n",
        "tsum(llst)\n",
        "multiply(llst)  \n",
        "\n",
        "sumeven_multodd(llst)\n"
      ],
      "metadata": {
        "colab": {
          "base_uri": "https://localhost:8080/"
        },
        "id": "cXH0lgVofiUq",
        "outputId": "2181200e-471a-4b32-d195-0aef96d38e3d"
      },
      "execution_count": 79,
      "outputs": [
        {
          "output_type": "stream",
          "name": "stdout",
          "text": [
            "45\n",
            "362880\n",
            "20\n",
            "945\n"
          ]
        }
      ]
    },
    {
      "cell_type": "code",
      "source": [
        "'''Question 4\n",
        "\n",
        "Write a Python program that accepts a hyphen-separated sequence of words as input and prints the words in a hyphen-separated sequence after sorting them alphabetically.\n",
        "\n",
        "Sample Items : green-red-yellow-black-white\n",
        "Expected Result : black-green-red-white-yellow\n",
        "\n",
        "Hint : There's a split function to separate your input string into words and a sort function to sort.\n",
        "\n",
        "'''\n",
        "text = 'green-red-yellow-black-white'\n",
        "sample_items = text.split(\"-\")\n",
        "sample_items.sort()\n",
        "print('-'.join(sample_items))\n"
      ],
      "metadata": {
        "colab": {
          "base_uri": "https://localhost:8080/"
        },
        "id": "_fU25iTxfiiF",
        "outputId": "0116a2db-023e-4ea4-bc35-be18ae7840e6"
      },
      "execution_count": 62,
      "outputs": [
        {
          "output_type": "stream",
          "name": "stdout",
          "text": [
            "black-green-red-white-yellow\n"
          ]
        }
      ]
    },
    {
      "cell_type": "code",
      "source": [
        "'''Question 5 (Bonus)\n",
        "\n",
        "Write a function that calculates and prints the value according to the given formula: Q = Square root of [(2 * C * D)/H] \n",
        "Following are the fixed values of C and H: C is 50. H is 30. D is the variable whose values should be input to your program in a comma-separated sequence.\n",
        " Example Let us assume the following comma separated input sequence is given to the function: 100,150,180 The output of the program should be: 18,22,24 \n",
        "\n",
        "Hints: If the output received is in decimal form, it should be rounded off to its nearest value \n",
        "(for example, if the output received is 26.0, it should be printed as 26)\n",
        " In case of input data being supplied to the question, it should be assumed to be a console input. '''\n",
        "\n",
        "import math\n",
        "\n",
        "lst1 = '100,150,180'\n",
        "lst1 = lst1.split(',')\n",
        "lst2 = []\n",
        "lst3 = []\n",
        "for i in range(len(lst1)):\n",
        "  num = lst1[i]\n",
        "  num = int(num)\n",
        "  lst3.append(num)\n",
        "\n",
        "for i in range(len(lst1)):  \n",
        "  ans = math.sqrt((2*50*lst3[i])/30)\n",
        "  ans = round(ans)\n",
        "  lst2.append(ans)\n",
        "print(lst2)"
      ],
      "metadata": {
        "colab": {
          "base_uri": "https://localhost:8080/"
        },
        "id": "HsmTrrKJfjC0",
        "outputId": "a6fbd592-ed61-4514-8c36-01aebc7fc2e4"
      },
      "execution_count": 89,
      "outputs": [
        {
          "output_type": "stream",
          "name": "stdout",
          "text": [
            "[18, 22, 24]\n"
          ]
        }
      ]
    },
    {
      "cell_type": "code",
      "source": [
        ""
      ],
      "metadata": {
        "id": "cP4bGSNd99Bz"
      },
      "execution_count": null,
      "outputs": []
    }
  ]
}